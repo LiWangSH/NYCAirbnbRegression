{
 "cells": [
  {
   "cell_type": "markdown",
   "metadata": {},
   "source": [
    "# New York City Airbnb Price Estimates 2\n",
    "## In this analysis, I included NYC subway and crime datasets in addition to the original price dataset."
   ]
  },
  {
   "cell_type": "code",
   "execution_count": 1,
   "metadata": {},
   "outputs": [],
   "source": [
    "import pandas as pd\n",
    "import numpy as np\n",
    "import matplotlib.pyplot as plt\n",
    "import seaborn as sns\n",
    "import math"
   ]
  },
  {
   "cell_type": "code",
   "execution_count": 2,
   "metadata": {},
   "outputs": [
    {
     "data": {
      "text/html": [
       "<div>\n",
       "<style scoped>\n",
       "    .dataframe tbody tr th:only-of-type {\n",
       "        vertical-align: middle;\n",
       "    }\n",
       "\n",
       "    .dataframe tbody tr th {\n",
       "        vertical-align: top;\n",
       "    }\n",
       "\n",
       "    .dataframe thead th {\n",
       "        text-align: right;\n",
       "    }\n",
       "</style>\n",
       "<table border=\"1\" class=\"dataframe\">\n",
       "  <thead>\n",
       "    <tr style=\"text-align: right;\">\n",
       "      <th></th>\n",
       "      <th>id</th>\n",
       "      <th>name</th>\n",
       "      <th>host_id</th>\n",
       "      <th>host_name</th>\n",
       "      <th>neighbourhood_group</th>\n",
       "      <th>neighbourhood</th>\n",
       "      <th>latitude</th>\n",
       "      <th>longitude</th>\n",
       "      <th>room_type</th>\n",
       "      <th>price</th>\n",
       "      <th>minimum_nights</th>\n",
       "      <th>number_of_reviews</th>\n",
       "      <th>last_review</th>\n",
       "      <th>reviews_per_month</th>\n",
       "      <th>calculated_host_listings_count</th>\n",
       "      <th>availability_365</th>\n",
       "    </tr>\n",
       "  </thead>\n",
       "  <tbody>\n",
       "    <tr>\n",
       "      <td>0</td>\n",
       "      <td>2539</td>\n",
       "      <td>Clean &amp; quiet apt home by the park</td>\n",
       "      <td>2787</td>\n",
       "      <td>John</td>\n",
       "      <td>Brooklyn</td>\n",
       "      <td>Kensington</td>\n",
       "      <td>40.64749</td>\n",
       "      <td>-73.97237</td>\n",
       "      <td>Private room</td>\n",
       "      <td>149</td>\n",
       "      <td>1</td>\n",
       "      <td>9</td>\n",
       "      <td>2018-10-19</td>\n",
       "      <td>0.21</td>\n",
       "      <td>6</td>\n",
       "      <td>365</td>\n",
       "    </tr>\n",
       "    <tr>\n",
       "      <td>1</td>\n",
       "      <td>2595</td>\n",
       "      <td>Skylit Midtown Castle</td>\n",
       "      <td>2845</td>\n",
       "      <td>Jennifer</td>\n",
       "      <td>Manhattan</td>\n",
       "      <td>Midtown</td>\n",
       "      <td>40.75362</td>\n",
       "      <td>-73.98377</td>\n",
       "      <td>Entire home/apt</td>\n",
       "      <td>225</td>\n",
       "      <td>1</td>\n",
       "      <td>45</td>\n",
       "      <td>2019-05-21</td>\n",
       "      <td>0.38</td>\n",
       "      <td>2</td>\n",
       "      <td>355</td>\n",
       "    </tr>\n",
       "    <tr>\n",
       "      <td>2</td>\n",
       "      <td>3647</td>\n",
       "      <td>THE VILLAGE OF HARLEM....NEW YORK !</td>\n",
       "      <td>4632</td>\n",
       "      <td>Elisabeth</td>\n",
       "      <td>Manhattan</td>\n",
       "      <td>Harlem</td>\n",
       "      <td>40.80902</td>\n",
       "      <td>-73.94190</td>\n",
       "      <td>Private room</td>\n",
       "      <td>150</td>\n",
       "      <td>3</td>\n",
       "      <td>0</td>\n",
       "      <td>NaN</td>\n",
       "      <td>NaN</td>\n",
       "      <td>1</td>\n",
       "      <td>365</td>\n",
       "    </tr>\n",
       "    <tr>\n",
       "      <td>3</td>\n",
       "      <td>3831</td>\n",
       "      <td>Cozy Entire Floor of Brownstone</td>\n",
       "      <td>4869</td>\n",
       "      <td>LisaRoxanne</td>\n",
       "      <td>Brooklyn</td>\n",
       "      <td>Clinton Hill</td>\n",
       "      <td>40.68514</td>\n",
       "      <td>-73.95976</td>\n",
       "      <td>Entire home/apt</td>\n",
       "      <td>89</td>\n",
       "      <td>1</td>\n",
       "      <td>270</td>\n",
       "      <td>2019-07-05</td>\n",
       "      <td>4.64</td>\n",
       "      <td>1</td>\n",
       "      <td>194</td>\n",
       "    </tr>\n",
       "    <tr>\n",
       "      <td>4</td>\n",
       "      <td>5022</td>\n",
       "      <td>Entire Apt: Spacious Studio/Loft by central park</td>\n",
       "      <td>7192</td>\n",
       "      <td>Laura</td>\n",
       "      <td>Manhattan</td>\n",
       "      <td>East Harlem</td>\n",
       "      <td>40.79851</td>\n",
       "      <td>-73.94399</td>\n",
       "      <td>Entire home/apt</td>\n",
       "      <td>80</td>\n",
       "      <td>10</td>\n",
       "      <td>9</td>\n",
       "      <td>2018-11-19</td>\n",
       "      <td>0.10</td>\n",
       "      <td>1</td>\n",
       "      <td>0</td>\n",
       "    </tr>\n",
       "  </tbody>\n",
       "</table>\n",
       "</div>"
      ],
      "text/plain": [
       "     id                                              name  host_id  \\\n",
       "0  2539                Clean & quiet apt home by the park     2787   \n",
       "1  2595                             Skylit Midtown Castle     2845   \n",
       "2  3647               THE VILLAGE OF HARLEM....NEW YORK !     4632   \n",
       "3  3831                   Cozy Entire Floor of Brownstone     4869   \n",
       "4  5022  Entire Apt: Spacious Studio/Loft by central park     7192   \n",
       "\n",
       "     host_name neighbourhood_group neighbourhood  latitude  longitude  \\\n",
       "0         John            Brooklyn    Kensington  40.64749  -73.97237   \n",
       "1     Jennifer           Manhattan       Midtown  40.75362  -73.98377   \n",
       "2    Elisabeth           Manhattan        Harlem  40.80902  -73.94190   \n",
       "3  LisaRoxanne            Brooklyn  Clinton Hill  40.68514  -73.95976   \n",
       "4        Laura           Manhattan   East Harlem  40.79851  -73.94399   \n",
       "\n",
       "         room_type  price  minimum_nights  number_of_reviews last_review  \\\n",
       "0     Private room    149               1                  9  2018-10-19   \n",
       "1  Entire home/apt    225               1                 45  2019-05-21   \n",
       "2     Private room    150               3                  0         NaN   \n",
       "3  Entire home/apt     89               1                270  2019-07-05   \n",
       "4  Entire home/apt     80              10                  9  2018-11-19   \n",
       "\n",
       "   reviews_per_month  calculated_host_listings_count  availability_365  \n",
       "0               0.21                               6               365  \n",
       "1               0.38                               2               355  \n",
       "2                NaN                               1               365  \n",
       "3               4.64                               1               194  \n",
       "4               0.10                               1                 0  "
      ]
     },
     "execution_count": 2,
     "metadata": {},
     "output_type": "execute_result"
    }
   ],
   "source": [
    "# Import data\n",
    "ori_df = pd.read_csv('AB_NYC_2019.csv')\n",
    "df = ori_df.copy()\n",
    "df.head()"
   ]
  },
  {
   "cell_type": "code",
   "execution_count": 3,
   "metadata": {},
   "outputs": [
    {
     "data": {
      "text/html": [
       "<div>\n",
       "<style scoped>\n",
       "    .dataframe tbody tr th:only-of-type {\n",
       "        vertical-align: middle;\n",
       "    }\n",
       "\n",
       "    .dataframe tbody tr th {\n",
       "        vertical-align: top;\n",
       "    }\n",
       "\n",
       "    .dataframe thead th {\n",
       "        text-align: right;\n",
       "    }\n",
       "</style>\n",
       "<table border=\"1\" class=\"dataframe\">\n",
       "  <thead>\n",
       "    <tr style=\"text-align: right;\">\n",
       "      <th></th>\n",
       "      <th>Division</th>\n",
       "      <th>Line</th>\n",
       "      <th>Station Name</th>\n",
       "      <th>Station Latitude</th>\n",
       "      <th>Station Longitude</th>\n",
       "      <th>Route1</th>\n",
       "      <th>Route2</th>\n",
       "      <th>Route3</th>\n",
       "      <th>Route4</th>\n",
       "      <th>Route5</th>\n",
       "      <th>...</th>\n",
       "      <th>ADA</th>\n",
       "      <th>ADA Notes</th>\n",
       "      <th>Free Crossover</th>\n",
       "      <th>North South Street</th>\n",
       "      <th>East West Street</th>\n",
       "      <th>Corner</th>\n",
       "      <th>Entrance Latitude</th>\n",
       "      <th>Entrance Longitude</th>\n",
       "      <th>Station Location</th>\n",
       "      <th>Entrance Location</th>\n",
       "    </tr>\n",
       "  </thead>\n",
       "  <tbody>\n",
       "    <tr>\n",
       "      <td>0</td>\n",
       "      <td>BMT</td>\n",
       "      <td>4 Avenue</td>\n",
       "      <td>25th St</td>\n",
       "      <td>40.660397</td>\n",
       "      <td>-73.998091</td>\n",
       "      <td>R</td>\n",
       "      <td>NaN</td>\n",
       "      <td>NaN</td>\n",
       "      <td>NaN</td>\n",
       "      <td>NaN</td>\n",
       "      <td>...</td>\n",
       "      <td>False</td>\n",
       "      <td>NaN</td>\n",
       "      <td>False</td>\n",
       "      <td>4th Ave</td>\n",
       "      <td>25th St</td>\n",
       "      <td>SW</td>\n",
       "      <td>40.660489</td>\n",
       "      <td>-73.998220</td>\n",
       "      <td>(40.660397, -73.998091)</td>\n",
       "      <td>(40.660489, -73.99822)</td>\n",
       "    </tr>\n",
       "    <tr>\n",
       "      <td>1</td>\n",
       "      <td>BMT</td>\n",
       "      <td>4 Avenue</td>\n",
       "      <td>25th St</td>\n",
       "      <td>40.660397</td>\n",
       "      <td>-73.998091</td>\n",
       "      <td>R</td>\n",
       "      <td>NaN</td>\n",
       "      <td>NaN</td>\n",
       "      <td>NaN</td>\n",
       "      <td>NaN</td>\n",
       "      <td>...</td>\n",
       "      <td>False</td>\n",
       "      <td>NaN</td>\n",
       "      <td>False</td>\n",
       "      <td>4th Ave</td>\n",
       "      <td>25th St</td>\n",
       "      <td>SE</td>\n",
       "      <td>40.660323</td>\n",
       "      <td>-73.997952</td>\n",
       "      <td>(40.660397, -73.998091)</td>\n",
       "      <td>(40.660323, -73.997952)</td>\n",
       "    </tr>\n",
       "    <tr>\n",
       "      <td>2</td>\n",
       "      <td>BMT</td>\n",
       "      <td>4 Avenue</td>\n",
       "      <td>36th St</td>\n",
       "      <td>40.655144</td>\n",
       "      <td>-74.003549</td>\n",
       "      <td>N</td>\n",
       "      <td>R</td>\n",
       "      <td>NaN</td>\n",
       "      <td>NaN</td>\n",
       "      <td>NaN</td>\n",
       "      <td>...</td>\n",
       "      <td>False</td>\n",
       "      <td>NaN</td>\n",
       "      <td>True</td>\n",
       "      <td>4th Ave</td>\n",
       "      <td>36th St</td>\n",
       "      <td>NW</td>\n",
       "      <td>40.654676</td>\n",
       "      <td>-74.004306</td>\n",
       "      <td>(40.655144, -74.003549)</td>\n",
       "      <td>(40.654676, -74.004306)</td>\n",
       "    </tr>\n",
       "    <tr>\n",
       "      <td>3</td>\n",
       "      <td>BMT</td>\n",
       "      <td>4 Avenue</td>\n",
       "      <td>36th St</td>\n",
       "      <td>40.655144</td>\n",
       "      <td>-74.003549</td>\n",
       "      <td>N</td>\n",
       "      <td>R</td>\n",
       "      <td>NaN</td>\n",
       "      <td>NaN</td>\n",
       "      <td>NaN</td>\n",
       "      <td>...</td>\n",
       "      <td>False</td>\n",
       "      <td>NaN</td>\n",
       "      <td>True</td>\n",
       "      <td>4th Ave</td>\n",
       "      <td>36th St</td>\n",
       "      <td>NE</td>\n",
       "      <td>40.654365</td>\n",
       "      <td>-74.004113</td>\n",
       "      <td>(40.655144, -74.003549)</td>\n",
       "      <td>(40.654365, -74.004113)</td>\n",
       "    </tr>\n",
       "    <tr>\n",
       "      <td>4</td>\n",
       "      <td>BMT</td>\n",
       "      <td>4 Avenue</td>\n",
       "      <td>36th St</td>\n",
       "      <td>40.655144</td>\n",
       "      <td>-74.003549</td>\n",
       "      <td>N</td>\n",
       "      <td>R</td>\n",
       "      <td>NaN</td>\n",
       "      <td>NaN</td>\n",
       "      <td>NaN</td>\n",
       "      <td>...</td>\n",
       "      <td>False</td>\n",
       "      <td>NaN</td>\n",
       "      <td>True</td>\n",
       "      <td>4th Ave</td>\n",
       "      <td>36th St</td>\n",
       "      <td>NW</td>\n",
       "      <td>40.654490</td>\n",
       "      <td>-74.004499</td>\n",
       "      <td>(40.655144, -74.003549)</td>\n",
       "      <td>(40.65449, -74.004499)</td>\n",
       "    </tr>\n",
       "  </tbody>\n",
       "</table>\n",
       "<p>5 rows × 32 columns</p>\n",
       "</div>"
      ],
      "text/plain": [
       "  Division      Line Station Name  Station Latitude  Station Longitude Route1  \\\n",
       "0      BMT  4 Avenue      25th St         40.660397         -73.998091      R   \n",
       "1      BMT  4 Avenue      25th St         40.660397         -73.998091      R   \n",
       "2      BMT  4 Avenue      36th St         40.655144         -74.003549      N   \n",
       "3      BMT  4 Avenue      36th St         40.655144         -74.003549      N   \n",
       "4      BMT  4 Avenue      36th St         40.655144         -74.003549      N   \n",
       "\n",
       "  Route2 Route3 Route4 Route5  ...    ADA ADA Notes  Free Crossover  \\\n",
       "0    NaN    NaN    NaN    NaN  ...  False       NaN           False   \n",
       "1    NaN    NaN    NaN    NaN  ...  False       NaN           False   \n",
       "2      R    NaN    NaN    NaN  ...  False       NaN            True   \n",
       "3      R    NaN    NaN    NaN  ...  False       NaN            True   \n",
       "4      R    NaN    NaN    NaN  ...  False       NaN            True   \n",
       "\n",
       "   North South Street  East West Street  Corner Entrance Latitude  \\\n",
       "0             4th Ave           25th St      SW         40.660489   \n",
       "1             4th Ave           25th St      SE         40.660323   \n",
       "2             4th Ave           36th St      NW         40.654676   \n",
       "3             4th Ave           36th St      NE         40.654365   \n",
       "4             4th Ave           36th St      NW         40.654490   \n",
       "\n",
       "  Entrance Longitude         Station Location        Entrance Location  \n",
       "0         -73.998220  (40.660397, -73.998091)   (40.660489, -73.99822)  \n",
       "1         -73.997952  (40.660397, -73.998091)  (40.660323, -73.997952)  \n",
       "2         -74.004306  (40.655144, -74.003549)  (40.654676, -74.004306)  \n",
       "3         -74.004113  (40.655144, -74.003549)  (40.654365, -74.004113)  \n",
       "4         -74.004499  (40.655144, -74.003549)   (40.65449, -74.004499)  \n",
       "\n",
       "[5 rows x 32 columns]"
      ]
     },
     "execution_count": 3,
     "metadata": {},
     "output_type": "execute_result"
    }
   ],
   "source": [
    "#Import subway map\n",
    "df_sub = pd.read_csv('NYC_Transit_Subway_Entrance_And_Exit_Data.csv')\n",
    "df_sub.head()"
   ]
  },
  {
   "cell_type": "code",
   "execution_count": 4,
   "metadata": {},
   "outputs": [
    {
     "data": {
      "text/plain": [
       "array(['R', 'N', 'F', 'B', 'Q', 'D', 'J', 'A', 'L', 'G', 'FS', 'M', 'C',\n",
       "       'E', 'e', 'H', 'GS', '1', '2', '5', '3', '7', '4', 'B ', '6'],\n",
       "      dtype=object)"
      ]
     },
     "execution_count": 4,
     "metadata": {},
     "output_type": "execute_result"
    }
   ],
   "source": [
    "df_sub['Route1'].unique()"
   ]
  },
  {
   "cell_type": "code",
   "execution_count": 5,
   "metadata": {
    "scrolled": true
   },
   "outputs": [
    {
     "data": {
      "text/html": [
       "<div>\n",
       "<style scoped>\n",
       "    .dataframe tbody tr th:only-of-type {\n",
       "        vertical-align: middle;\n",
       "    }\n",
       "\n",
       "    .dataframe tbody tr th {\n",
       "        vertical-align: top;\n",
       "    }\n",
       "\n",
       "    .dataframe thead th {\n",
       "        text-align: right;\n",
       "    }\n",
       "</style>\n",
       "<table border=\"1\" class=\"dataframe\">\n",
       "  <thead>\n",
       "    <tr style=\"text-align: right;\">\n",
       "      <th></th>\n",
       "      <th>ARREST_KEY</th>\n",
       "      <th>ARREST_DATE</th>\n",
       "      <th>PD_CD</th>\n",
       "      <th>PD_DESC</th>\n",
       "      <th>KY_CD</th>\n",
       "      <th>OFNS_DESC</th>\n",
       "      <th>LAW_CODE</th>\n",
       "      <th>LAW_CAT_CD</th>\n",
       "      <th>ARREST_BORO</th>\n",
       "      <th>ARREST_PRECINCT</th>\n",
       "      <th>JURISDICTION_CODE</th>\n",
       "      <th>AGE_GROUP</th>\n",
       "      <th>PERP_SEX</th>\n",
       "      <th>PERP_RACE</th>\n",
       "      <th>X_COORD_CD</th>\n",
       "      <th>Y_COORD_CD</th>\n",
       "      <th>Latitude</th>\n",
       "      <th>Longitude</th>\n",
       "    </tr>\n",
       "  </thead>\n",
       "  <tbody>\n",
       "    <tr>\n",
       "      <td>0</td>\n",
       "      <td>173130602</td>\n",
       "      <td>12/31/2017</td>\n",
       "      <td>566.0</td>\n",
       "      <td>MARIJUANA, POSSESSION</td>\n",
       "      <td>678.0</td>\n",
       "      <td>MISCELLANEOUS PENAL LAW</td>\n",
       "      <td>PL 2210500</td>\n",
       "      <td>V</td>\n",
       "      <td>Q</td>\n",
       "      <td>105</td>\n",
       "      <td>0.0</td>\n",
       "      <td>25-44</td>\n",
       "      <td>M</td>\n",
       "      <td>BLACK</td>\n",
       "      <td>1063056.0</td>\n",
       "      <td>207463.0</td>\n",
       "      <td>40.735772</td>\n",
       "      <td>-73.715638</td>\n",
       "    </tr>\n",
       "    <tr>\n",
       "      <td>1</td>\n",
       "      <td>173114463</td>\n",
       "      <td>12/31/2017</td>\n",
       "      <td>478.0</td>\n",
       "      <td>THEFT OF SERVICES, UNCLASSIFIED</td>\n",
       "      <td>343.0</td>\n",
       "      <td>OTHER OFFENSES RELATED TO THEFT</td>\n",
       "      <td>PL 1651503</td>\n",
       "      <td>M</td>\n",
       "      <td>Q</td>\n",
       "      <td>114</td>\n",
       "      <td>0.0</td>\n",
       "      <td>25-44</td>\n",
       "      <td>M</td>\n",
       "      <td>ASIAN / PACIFIC ISLANDER</td>\n",
       "      <td>1009113.0</td>\n",
       "      <td>219613.0</td>\n",
       "      <td>40.769437</td>\n",
       "      <td>-73.910241</td>\n",
       "    </tr>\n",
       "    <tr>\n",
       "      <td>2</td>\n",
       "      <td>173113513</td>\n",
       "      <td>12/31/2017</td>\n",
       "      <td>849.0</td>\n",
       "      <td>NY STATE LAWS,UNCLASSIFIED VIOLATION</td>\n",
       "      <td>677.0</td>\n",
       "      <td>OTHER STATE LAWS</td>\n",
       "      <td>LOC000000V</td>\n",
       "      <td>V</td>\n",
       "      <td>K</td>\n",
       "      <td>73</td>\n",
       "      <td>1.0</td>\n",
       "      <td>18-24</td>\n",
       "      <td>M</td>\n",
       "      <td>BLACK</td>\n",
       "      <td>1010719.0</td>\n",
       "      <td>186857.0</td>\n",
       "      <td>40.679525</td>\n",
       "      <td>-73.904572</td>\n",
       "    </tr>\n",
       "    <tr>\n",
       "      <td>3</td>\n",
       "      <td>173113423</td>\n",
       "      <td>12/31/2017</td>\n",
       "      <td>101.0</td>\n",
       "      <td>ASSAULT 3</td>\n",
       "      <td>344.0</td>\n",
       "      <td>ASSAULT 3 &amp; RELATED OFFENSES</td>\n",
       "      <td>PL 1200001</td>\n",
       "      <td>M</td>\n",
       "      <td>M</td>\n",
       "      <td>18</td>\n",
       "      <td>0.0</td>\n",
       "      <td>25-44</td>\n",
       "      <td>M</td>\n",
       "      <td>WHITE</td>\n",
       "      <td>987831.0</td>\n",
       "      <td>217446.0</td>\n",
       "      <td>40.763523</td>\n",
       "      <td>-73.987074</td>\n",
       "    </tr>\n",
       "    <tr>\n",
       "      <td>4</td>\n",
       "      <td>173113421</td>\n",
       "      <td>12/31/2017</td>\n",
       "      <td>101.0</td>\n",
       "      <td>ASSAULT 3</td>\n",
       "      <td>344.0</td>\n",
       "      <td>ASSAULT 3 &amp; RELATED OFFENSES</td>\n",
       "      <td>PL 1200001</td>\n",
       "      <td>M</td>\n",
       "      <td>M</td>\n",
       "      <td>18</td>\n",
       "      <td>0.0</td>\n",
       "      <td>45-64</td>\n",
       "      <td>M</td>\n",
       "      <td>BLACK</td>\n",
       "      <td>987073.0</td>\n",
       "      <td>216078.0</td>\n",
       "      <td>40.759768</td>\n",
       "      <td>-73.989811</td>\n",
       "    </tr>\n",
       "  </tbody>\n",
       "</table>\n",
       "</div>"
      ],
      "text/plain": [
       "   ARREST_KEY ARREST_DATE  PD_CD                               PD_DESC  KY_CD  \\\n",
       "0   173130602  12/31/2017  566.0                 MARIJUANA, POSSESSION  678.0   \n",
       "1   173114463  12/31/2017  478.0       THEFT OF SERVICES, UNCLASSIFIED  343.0   \n",
       "2   173113513  12/31/2017  849.0  NY STATE LAWS,UNCLASSIFIED VIOLATION  677.0   \n",
       "3   173113423  12/31/2017  101.0                             ASSAULT 3  344.0   \n",
       "4   173113421  12/31/2017  101.0                             ASSAULT 3  344.0   \n",
       "\n",
       "                         OFNS_DESC    LAW_CODE LAW_CAT_CD ARREST_BORO  \\\n",
       "0          MISCELLANEOUS PENAL LAW  PL 2210500          V           Q   \n",
       "1  OTHER OFFENSES RELATED TO THEFT  PL 1651503          M           Q   \n",
       "2                 OTHER STATE LAWS  LOC000000V          V           K   \n",
       "3     ASSAULT 3 & RELATED OFFENSES  PL 1200001          M           M   \n",
       "4     ASSAULT 3 & RELATED OFFENSES  PL 1200001          M           M   \n",
       "\n",
       "   ARREST_PRECINCT  JURISDICTION_CODE AGE_GROUP PERP_SEX  \\\n",
       "0              105                0.0     25-44        M   \n",
       "1              114                0.0     25-44        M   \n",
       "2               73                1.0     18-24        M   \n",
       "3               18                0.0     25-44        M   \n",
       "4               18                0.0     45-64        M   \n",
       "\n",
       "                  PERP_RACE  X_COORD_CD  Y_COORD_CD   Latitude  Longitude  \n",
       "0                     BLACK   1063056.0    207463.0  40.735772 -73.715638  \n",
       "1  ASIAN / PACIFIC ISLANDER   1009113.0    219613.0  40.769437 -73.910241  \n",
       "2                     BLACK   1010719.0    186857.0  40.679525 -73.904572  \n",
       "3                     WHITE    987831.0    217446.0  40.763523 -73.987074  \n",
       "4                     BLACK    987073.0    216078.0  40.759768 -73.989811  "
      ]
     },
     "execution_count": 5,
     "metadata": {},
     "output_type": "execute_result"
    }
   ],
   "source": [
    "# Import Crime rate map\n",
    "df_cm = pd.read_csv('NYPD_Arrests_Data__Historic_.csv')\n",
    "df_cm.head()"
   ]
  },
  {
   "cell_type": "markdown",
   "metadata": {},
   "source": [
    "## GPS Coordinates\n",
    "### Method 1: \n",
    "#### -- directly calculate the distance between two sets of GPS coordinates by using Haversine formula \n",
    "Pros: very accurate\n",
    "Cons: 1) takes time, especially when the dataset is large; 2) this level of accuracy may not be necesary in a small area, such as NYC, compared to Earth"
   ]
  },
  {
   "cell_type": "code",
   "execution_count": 6,
   "metadata": {},
   "outputs": [],
   "source": [
    "# Calculate the longitude and latitude\n",
    "def lat_lon_to_distance(lat1, lon1, lat2, lon2):\n",
    "    rlat1 = math.radians(lat1)\n",
    "    rlat2 = math.radians(lat2)\n",
    "    del_lat = math.radians(lat2 - lat1)\n",
    "    del_lon = math.radians(lon2 - lon1)\n",
    "    a = pow(math.sin(del_lat/2), 2) + math.cos(rlat1)*math.cos(rlat2)*pow(math.sin(del_lon/2), 2)\n",
    "    c = 2 * math.atan2(math.sqrt(a), math.sqrt(1-a))\n",
    "    d = 6371 * c #km, earth's radius\n",
    "    return d"
   ]
  },
  {
   "cell_type": "code",
   "execution_count": 7,
   "metadata": {},
   "outputs": [
    {
     "name": "stdout",
     "output_type": "stream",
     "text": [
      "--- 160.50177574157715 seconds ---\n"
     ]
    }
   ],
   "source": [
    "# Calculate the number of subway stations 5 min away from the airbnb units\n",
    "import time\n",
    "start_time = time.time() # to time this method\n",
    "close = []\n",
    "station_loc = np.unique(df_sub[['Station Latitude', 'Station Longitude']], axis = 0) #unique stations\n",
    "five_min_walk = 1.4 * 60 * 5 / 1000 # distance an average human walks in 5 min\n",
    "for ii in range(len(df)):\n",
    "    score = 0\n",
    "    lat1 = df['latitude'][ii]\n",
    "    lon1 = df['longitude'][ii]\n",
    "    for jj in range(len(station_loc)):\n",
    "        lat2 = station_loc[jj][0]\n",
    "        lon2 = station_loc[jj][1]\n",
    "        distance = lat_lon_to_distance(lat1, lon1, lat2, lon2)\n",
    "        if distance - five_min_walk <= 0:\n",
    "            score+=1\n",
    "    close.append(score)\n",
    "df['subway station H'] = close  \n",
    "print(\"--- %s seconds ---\" % (time.time() - start_time))\n",
    "k1 = time.time() - start_time"
   ]
  },
  {
   "cell_type": "markdown",
   "metadata": {},
   "source": [
    "### Method 2:\n",
    "#### -- convert GPS coordinates to location coordinates in km and compare them to the set distance\n",
    "In this method, I will first convert the location coordinates in degrees of latitude and longitude to coordinates in km. Longitudes are great circles, with the circumference of 2 x pi x R, where R is the radius of Earth. So every degree along\n",
    "the same longitude covers the distance of 2 x pi x R/360 in km. Latitudes, other than the equator, are small circles. The circumference at each latitude level is 2 x pi x R x cos(latitude) in km. Thus each degree along the same latitude covers the distance of 2 x pi x R x cos(latitude)/360 in km. \n",
    "\n",
    "Each set of GPS coordinates includes latitude and longitude, which are degrees from the original point, where latitude and longitude are 0. Each physical location can also be expressed as new x and y coordinates based on latitude and longitude. \n",
    "\n",
    "x (unit: km) = latitude in degree x 2 x pi x R x cos(latitude)/360 degree \n",
    "y (unit: km) = longitude in degrees x 2 x pi x R/360 degree  \n",
    "\n",
    "Next, I will look at how many subway stations there are near an Airbnb unit. Instead of calculating the distance between each unit (one instance of 48895) and a station (one instance of 472) and include the station if it is within a certain distance with double for loops, which is very slow, I will use boolean masking to only include a subway station if it is within a 5 min-walk away from the unit. This will allow me to use one for loop and list comprehension."
   ]
  },
  {
   "cell_type": "code",
   "execution_count": 8,
   "metadata": {},
   "outputs": [
    {
     "name": "stdout",
     "output_type": "stream",
     "text": [
      "--- 476.1290512084961 seconds ---\n",
      "Pearson R:  (0.7331998136718041, 0.0)\n"
     ]
    }
   ],
   "source": [
    "import time\n",
    "start_time = time.time() # to time this method\n",
    "close = []\n",
    "station_loc = np.unique(df_sub[['Station Latitude', 'Station Longitude']], axis = 0)\n",
    "five_min_walk = 1.4 * 60 * 5 / 1000 # distance an average human walks in 5 min\n",
    "for ii in range(len(df)):\n",
    "    score = 0\n",
    "    lat1 = df['latitude'][ii] #in degree\n",
    "    lon1 = df['longitude'][ii] #in degree\n",
    "    x1 = abs(lat1 * 2 * np.pi * 6371 * np.cos(math.radians(lat1)) / 360) # Earth's radius is 6371 km\n",
    "    y1 = abs(lon1 * 2 * np.pi * 6371 / 360)\n",
    "    # find how many stations are within 5 minutes away\n",
    "    close_stations = len(station_loc[[((abs(station_loc[jj][0] * 2 * np.pi * 6371 * np.cos(math.radians(station_loc[jj][0])) / 360)) <= (x1 + five_min_walk)) \\\n",
    "                                      & ((abs(station_loc[jj][0] * 2 * np.pi * 6371 * np.cos(math.radians(station_loc[jj][0])) / 360)) >= (x1 - five_min_walk)) \\\n",
    "                                      & ((abs(station_loc[jj][1] * 2 * np.pi * 6371 / 360)) <= (y1 + five_min_walk)) \\\n",
    "                                      & ((abs(station_loc[jj][1] * 2 * np.pi * 6371 / 360)) >= (y1 - five_min_walk)) \\\n",
    "                                      for jj in range(len(station_loc))]])\n",
    "    close.append(close_stations)\n",
    "df['subway station xy'] = close     \n",
    "print(\"--- %s seconds ---\" % (time.time() - start_time))\n",
    "k2 = time.time() - start_time\n",
    "from scipy.stats import pearsonr\n",
    "p2 = pearsonr(df['subway station H'].tolist(), df['subway station xy'].tolist())\n",
    "print('Pearson R: ', p2)"
   ]
  },
  {
   "cell_type": "markdown",
   "metadata": {},
   "source": [
    "### Method 3:\n",
    "#### -- converts the set distance to degree and directly compare with given latitude and longitude values\n",
    "This method is the reverse version of method 2. Instead of converting latitude and longitude to km, I will convert the 5-min walk to degrees.\n",
    "Inspiration: https://stackoverflow.com/questions/4000886/gps-coordinates-1km-square-around-a-point\n",
    "The circumference of the great longitude circle is 2 x pi x R, and that of the small latitude circle is 2 x pi x R x cos(lat). Both in km. So the 5-min walk at the same latitude to the circumference of the small latitude circle is equal to the degree equivalent of the 5-min walk to 360 degree. Similarly, the 5-min walk at the same longitude to the circumference of the great longitude circle is equal to the degree equivalent of the 5-min walk to 360 degres.\n",
    "\n",
    "Degree(lat) = 360 x D/(2 x pi x R x cos(lat))\n",
    "Degree(lon) = 360 x D/(2 x pi x R)"
   ]
  },
  {
   "cell_type": "code",
   "execution_count": 9,
   "metadata": {},
   "outputs": [
    {
     "name": "stdout",
     "output_type": "stream",
     "text": [
      "--- 105.24572324752808 seconds ---\n",
      "Pearson R:  (0.8683986493829478, 0.0)\n"
     ]
    }
   ],
   "source": [
    "import time\n",
    "start_time = time.time() # to time this method\n",
    "close = []\n",
    "station_loc = np.unique(df_sub[['Station Latitude', 'Station Longitude']], axis = 0)\n",
    "five_min_walk = 1.4 * 60 * 5 / 1000 # distance an average human walks in 5 min\n",
    "for ii in range(len(df)):\n",
    "    score = 0\n",
    "    lat1 = df['latitude'][ii] #in degree\n",
    "    lon1 = df['longitude'][ii] #in degree\n",
    "    dg_walk_lat = 360 * five_min_walk / (2 * np.pi * 6371 * math.radians(lat1)) # distance converted to degree\n",
    "    dg_walk_lon = 360 * five_min_walk / (2 * np.pi * 6371)\n",
    "    # find how many stations are within 5 minutes away\n",
    "    close_stations = len(station_loc[[(station_loc[jj][0] <= (lat1 + dg_walk_lat)) \\\n",
    "                                      & (station_loc[jj][0] >= (lat1 - dg_walk_lat)) \\\n",
    "                                      & (station_loc[jj][1] <= (lon1 + dg_walk_lat)) \\\n",
    "                                      & (station_loc[jj][1] >= (lon1 - dg_walk_lat)) \\\n",
    "                                      for jj in range(len(station_loc))]])\n",
    "    close.append(close_stations)\n",
    "df['subway station'] = close      # 0~51 stations, on average 27\n",
    "print(\"--- %s seconds ---\" % (time.time() - start_time))\n",
    "k3 = time.time() - start_time\n",
    "p3 = pearsonr(df['subway station H'].tolist(), df['subway station'].tolist())\n",
    "print('Pearson R: ', p3)"
   ]
  },
  {
   "cell_type": "code",
   "execution_count": 10,
   "metadata": {},
   "outputs": [
    {
     "data": {
      "text/html": [
       "<div>\n",
       "<style scoped>\n",
       "    .dataframe tbody tr th:only-of-type {\n",
       "        vertical-align: middle;\n",
       "    }\n",
       "\n",
       "    .dataframe tbody tr th {\n",
       "        vertical-align: top;\n",
       "    }\n",
       "\n",
       "    .dataframe thead th {\n",
       "        text-align: right;\n",
       "    }\n",
       "</style>\n",
       "<table border=\"1\" class=\"dataframe\">\n",
       "  <thead>\n",
       "    <tr style=\"text-align: right;\">\n",
       "      <th></th>\n",
       "      <th>Time (s)</th>\n",
       "      <th>Pearson R</th>\n",
       "    </tr>\n",
       "  </thead>\n",
       "  <tbody>\n",
       "    <tr>\n",
       "      <td>Method 1</td>\n",
       "      <td>160.502773</td>\n",
       "      <td></td>\n",
       "    </tr>\n",
       "    <tr>\n",
       "      <td>Method 2</td>\n",
       "      <td>476.130037</td>\n",
       "      <td>0.7332</td>\n",
       "    </tr>\n",
       "    <tr>\n",
       "      <td>Method 3</td>\n",
       "      <td>105.245723</td>\n",
       "      <td>0.868399</td>\n",
       "    </tr>\n",
       "  </tbody>\n",
       "</table>\n",
       "</div>"
      ],
      "text/plain": [
       "            Time (s) Pearson R\n",
       "Method 1  160.502773          \n",
       "Method 2  476.130037    0.7332\n",
       "Method 3  105.245723  0.868399"
      ]
     },
     "execution_count": 10,
     "metadata": {},
     "output_type": "execute_result"
    }
   ],
   "source": [
    "# Compare three methods\n",
    "GPS_xy = pd.DataFrame([{'Time (s)': k1, 'Pearson R': ''}, \\\n",
    "                       {'Time (s)': k2, 'Pearson R': p2[0]}, \\\n",
    "                       {'Time (s)': k3, 'Pearson R': p3[0]}], \\\n",
    "                       index = ['Method 1', 'Method 2', 'Method 3'])\n",
    "GPS_xy"
   ]
  },
  {
   "cell_type": "code",
   "execution_count": 11,
   "metadata": {},
   "outputs": [
    {
     "data": {
      "image/png": "[encoded data removed]",
      "text/plain": [
       "<Figure size 720x216 with 3 Axes>"
      ]
     },
     "metadata": {
      "needs_background": "light"
     },
     "output_type": "display_data"
    }
   ],
   "source": [
    "fig, ax = plt.subplots(1,3, figsize = (10, 3))\n",
    "sns.distplot(df['subway station H'], ax = ax[0]).set_title('Method 1')\n",
    "sns.distplot(df['subway station xy'], ax = ax[1]).set_title('Method 2')\n",
    "sns.distplot(df['subway station'], ax = ax[2]).set_title('Method 3')\n",
    "sns.despine()"
   ]
  },
  {
   "cell_type": "markdown",
   "metadata": {},
   "source": [
    "Method 3 has comparably better accuracy than method 2 and takes the least computing time. Both methods 2 and 3 show higher numbers of subway stations than method 1."
   ]
  },
  {
   "cell_type": "code",
   "execution_count": 12,
   "metadata": {},
   "outputs": [
    {
     "data": {
      "image/png": "[encoded data removed]",
      "text/plain": [
       "<Figure size 720x216 with 3 Axes>"
      ]
     },
     "metadata": {
      "needs_background": "light"
     },
     "output_type": "display_data"
    }
   ],
   "source": [
    "fig, ax = plt.subplots(1,3, figsize = (10, 3))\n",
    "p1 = sns.relplot(x = 'subway station H', y = 'price', data = df, kind = 'line', ax = ax[0])\n",
    "p2 = sns.relplot(x = 'subway station xy', y = 'price', data = df, kind = 'line', ax = ax[1])\n",
    "p3 = sns.relplot(x = 'subway station', y = 'price', data = df, kind = 'line', ax = ax[2])\n",
    "p1.despine()\n",
    "plt.close(p1.fig); plt.close(p2.fig); plt.close(p3.fig)"
   ]
  },
  {
   "cell_type": "code",
   "execution_count": 13,
   "metadata": {},
   "outputs": [
    {
     "data": {
      "text/plain": [
       "id                                                          9475907\n",
       "name                              Spacious alcove studio in Tribeca\n",
       "host_id                                                     1991700\n",
       "host_name                                                     Rajat\n",
       "neighbourhood_group                                       Manhattan\n",
       "neighbourhood                                    Financial District\n",
       "latitude                                                    40.7112\n",
       "longitude                                                  -74.0083\n",
       "room_type                                           Entire home/apt\n",
       "price                                                           150\n",
       "minimum_nights                                                    3\n",
       "number_of_reviews                                                 0\n",
       "last_review                                                     NaN\n",
       "reviews_per_month                                               NaN\n",
       "calculated_host_listings_count                                    1\n",
       "availability_365                                                  0\n",
       "subway station H                                                 15\n",
       "subway station xy                                                20\n",
       "subway station                                                   24\n",
       "Name: 12233, dtype: object"
      ]
     },
     "execution_count": 13,
     "metadata": {},
     "output_type": "execute_result"
    }
   ],
   "source": [
    "# Which Airbnb has the most subway stations nearby?\n",
    "df.iloc[df['subway station'].idxmax()]    "
   ]
  },
  {
   "cell_type": "code",
   "execution_count": 14,
   "metadata": {
    "scrolled": true
   },
   "outputs": [
    {
     "data": {
      "text/plain": [
       "<seaborn.axisgrid.FacetGrid at 0x1d65ba7b6c8>"
      ]
     },
     "execution_count": 14,
     "metadata": {},
     "output_type": "execute_result"
    },
    {
     "data": {
      "image/png": "[encoded data removed]",
      "text/plain": [
       "<Figure size 360x360 with 1 Axes>"
      ]
     },
     "metadata": {
      "needs_background": "light"
     },
     "output_type": "display_data"
    }
   ],
   "source": [
    "# Let's look at the relationship between the number of subway stations and the price\n",
    "sns.relplot(x = 'subway station', y = 'price', data = df, kind = 'line')"
   ]
  },
  {
   "cell_type": "markdown",
   "metadata": {},
   "source": [
    "Clearly, the number of subway stations and the Airbnb price is linearly correlated when there are less than ~7 subway stations nearby. This can be due to 1) the large variability of prices for units near more than 7 subway stations and 2) the lack of data for units near more than 7 subway stations."
   ]
  },
  {
   "cell_type": "markdown",
   "metadata": {},
   "source": [
    "Now let's map the crime rate onto our price.\n",
    "The crime dataset includes all crimes from 01/01/2006 to 12/31/2018. Considering the timliness of this analysis, I will only include the most relevant information for the price. \n",
    "\n",
    "In the price dataset, the \"last_review\" column includes the dates when each review was posted. I will look at their distributions first. "
   ]
  },
  {
   "cell_type": "code",
   "execution_count": 15,
   "metadata": {},
   "outputs": [
    {
     "data": {
      "text/plain": [
       "0       483 days\n",
       "1       269 days\n",
       "2       224 days\n",
       "3       452 days\n",
       "4       237 days\n",
       "          ...   \n",
       "38838   222 days\n",
       "38839   222 days\n",
       "38840   222 days\n",
       "38841   222 days\n",
       "38842   221 days\n",
       "Name: Days since last review, Length: 38843, dtype: timedelta64[ns]"
      ]
     },
     "execution_count": 15,
     "metadata": {},
     "output_type": "execute_result"
    }
   ],
   "source": [
    "# Drop rows with missing \"last review\"\n",
    "df = df.dropna(subset = ['last_review']).reset_index().drop(['index'], axis = 1)\n",
    "# Convert the dates of the last review to numerical values\n",
    "import datetime\n",
    "from datetime import datetime, date, timedelta\n",
    "today = date.today()\n",
    "today = datetime.strptime(str(today), '%Y-%m-%d')\n",
    "k = []\n",
    "for x in range(len(df)):\n",
    "    k.append(datetime.strptime(df['last_review'][x], '%Y-%m-%d'))\n",
    "df['last_review'] = k\n",
    "df['Days since last review'] = today - df['last_review']\n",
    "df['Days since last review']"
   ]
  },
  {
   "cell_type": "code",
   "execution_count": 16,
   "metadata": {},
   "outputs": [],
   "source": [
    "# Only keep the numerical values for the days since the last review\n",
    "k = []\n",
    "j = []\n",
    "for x in range(len(df)):\n",
    "    if len(str(df['Days since last review'][x])) == 18: # earliest last review was in 2011, made the days four digits\n",
    "        k.append(int(str(df['Days since last review'][x])[:4]))\n",
    "    elif len(str(df['Days since last review'][x])) == 17: \n",
    "        k.append(int(str(df['Days since last review'][x])[:3]))\n",
    "df['Days since last review'] = k"
   ]
  },
  {
   "cell_type": "code",
   "execution_count": 17,
   "metadata": {},
   "outputs": [
    {
     "data": {
      "text/plain": [
       "<matplotlib.axes._subplots.AxesSubplot at 0x1d65b5597c8>"
      ]
     },
     "execution_count": 17,
     "metadata": {},
     "output_type": "execute_result"
    },
    {
     "data": {
      "image/png": "[encoded data removed]",
      "text/plain": [
       "<Figure size 432x288 with 1 Axes>"
      ]
     },
     "metadata": {
      "needs_background": "light"
     },
     "output_type": "display_data"
    }
   ],
   "source": [
    "sns.distplot(df['Days since last review'])"
   ]
  },
  {
   "cell_type": "markdown",
   "metadata": {},
   "source": [
    "The distribution suggests that some \"last_reviews\" go way back. In this analysis, I do not focus on how the price prediction model evolves overtime. To eliminate the impact of early reviews on the model, I will only focus on the majority of the reviews."
   ]
  },
  {
   "cell_type": "code",
   "execution_count": 18,
   "metadata": {},
   "outputs": [
    {
     "name": "stdout",
     "output_type": "stream",
     "text": [
      "2017-12-20\n",
      "2019-07-08\n"
     ]
    },
    {
     "data": {
      "image/png": "[encoded data removed]",
      "text/plain": [
       "<Figure size 432x288 with 1 Axes>"
      ]
     },
     "metadata": {
      "needs_background": "light"
     },
     "output_type": "display_data"
    }
   ],
   "source": [
    "# Look at the reviews that are within 90% percentile\n",
    "df = df[df['Days since last review'] < np.percentile(df['Days since last review'], 90)].reset_index().drop(['index'], axis = 1)\n",
    "sns.distplot(df['Days since last review'])\n",
    "ea_date = date.today()-timedelta(days = np.percentile(df['Days since last review'], 90))\n",
    "print(ea_date)\n",
    "late_date = date.today()-timedelta(days = np.min(df['Days since last review']))\n",
    "print(late_date)"
   ]
  },
  {
   "cell_type": "markdown",
   "metadata": {},
   "source": [
    "I will only consider three months of crimes before the earliest date, considering the timely impact of the crimes. So starting at 9/20/2017.Since the crime dataset only has data until 12/31/2018, I will only consider the price dataset until 3/30/2019\n",
    "I will asssume that the subway stations do not change."
   ]
  },
  {
   "cell_type": "code",
   "execution_count": 19,
   "metadata": {},
   "outputs": [],
   "source": [
    "df2 = df.copy()\n",
    "df2 = df2[[datetime.strptime(str(datetime.date(df2['last_review'][x])), '%Y-%m-%d') < datetime.strptime('4/1/2019', '%m/%d/%Y') for x in range(len(df2))]]\n",
    "df2 = df2.reset_index().drop(['index'], axis = 1)"
   ]
  },
  {
   "cell_type": "code",
   "execution_count": 20,
   "metadata": {},
   "outputs": [],
   "source": [
    "df_cm2 = df_cm.copy()\n",
    "df_cm2 = df_cm2[[datetime.strptime(df_cm2['ARREST_DATE'][x], '%m/%d/%Y') > datetime.strptime('9/20/2017', '%m/%d/%Y') for x in range(len(df_cm2))]]"
   ]
  },
  {
   "cell_type": "code",
   "execution_count": 21,
   "metadata": {},
   "outputs": [
    {
     "name": "stdout",
     "output_type": "stream",
     "text": [
      "No. of instances in the price dataset:  12467\n",
      "No. of instances in the crime dataset:  322421\n"
     ]
    }
   ],
   "source": [
    "print('No. of instances in the price dataset: ', len(df2))\n",
    "print('No. of instances in the crime dataset: ', len(df_cm2))"
   ]
  },
  {
   "cell_type": "markdown",
   "metadata": {},
   "source": [
    "In the crime dataset, column \"LAW_CAT_CD\", there are codes F, M, V, I, and nan. I looked them up and found:\n",
    "F (felony), M (misdemeanors), V (violation), and I (infraction)\n",
    "Considering V is often parking ticketing and sort, I will only include F and M, which lead to jail time. "
   ]
  },
  {
   "cell_type": "code",
   "execution_count": 22,
   "metadata": {},
   "outputs": [],
   "source": [
    "df_cm3 = df_cm2.copy()\n",
    "df_cm3 = df_cm3[(df_cm3['LAW_CAT_CD'] == 'M') | (df_cm3['LAW_CAT_CD'] == 'F')]"
   ]
  },
  {
   "cell_type": "code",
   "execution_count": 23,
   "metadata": {},
   "outputs": [
    {
     "data": {
      "text/plain": [
       "array(['OTHER OFFENSES RELATED TO THEFT', 'ASSAULT 3 & RELATED OFFENSES',\n",
       "       'ROBBERY', 'DANGEROUS DRUGS', 'OFFENSES INVOLVING FRAUD',\n",
       "       'PETIT LARCENY', 'FELONY ASSAULT', 'MISCELLANEOUS PENAL LAW',\n",
       "       'DANGEROUS WEAPONS', 'OFF. AGNST PUB ORD SENSBLTY & RGHTS TO PRIV',\n",
       "       'INTOXICATED/IMPAIRED DRIVING', 'INTOXICATED & IMPAIRED DRIVING',\n",
       "       'CRIMINAL MISCHIEF & RELATED OFFENSES', 'GRAND LARCENY',\n",
       "       'VEHICLE AND TRAFFIC LAWS', 'BURGLARY',\n",
       "       'OFFENSES AGAINST PUBLIC ADMINISTRATION',\n",
       "       'OTHER TRAFFIC INFRACTION', 'SEX CRIMES', 'ARSON',\n",
       "       'CRIMINAL TRESPASS', \"BURGLAR'S TOOLS\",\n",
       "       'ALCOHOLIC BEVERAGE CONTROL LAW',\n",
       "       'UNAUTHORIZED USE OF A VEHICLE 3 (UUV)', 'FORGERY',\n",
       "       'OTHER STATE LAWS (NON PENAL LAW)', 'ENDAN WELFARE INCOMP',\n",
       "       'OFF. AGNST PUB ORD SENSBLTY &', 'FRAUDS',\n",
       "       'PROSTITUTION & RELATED OFFENSES', 'OFFENSES AGAINST THE PERSON',\n",
       "       'POSSESSION OF STOLEN PROPERTY 5',\n",
       "       'OFFENSES AGAINST PUBLIC SAFETY', 'OTHER STATE LAWS',\n",
       "       'OFFENSES RELATED TO CHILDREN', 'GRAND LARCENY OF MOTOR VEHICLE',\n",
       "       'RAPE', nan, 'POSSESSION OF STOLEN PROPERTY', 'FORCIBLE TOUCHING',\n",
       "       'MURDER & NON-NEGL. MANSLAUGHTER',\n",
       "       'HOMICIDE-NEGLIGENT,UNCLASSIFIED',\n",
       "       'CRIMINAL MISCHIEF & RELATED OF', 'GAMBLING',\n",
       "       'CHILD ABANDONMENT/NON SUPPORT 1', 'JOSTLING',\n",
       "       'ANTICIPATORY OFFENSES', 'FRAUDULENT ACCOSTING',\n",
       "       'OTHER STATE LAWS (NON PENAL LA', 'THEFT-FRAUD',\n",
       "       'KIDNAPPING & RELATED OFFENSES', 'ADMINISTRATIVE CODE',\n",
       "       'LOITERING FOR DRUG PURPOSES', 'ABORTION',\n",
       "       'CHILD ABANDONMENT/NON SUPPORT', 'ESCAPE 3',\n",
       "       'HOMICIDE-NEGLIGENT-VEHICLE', 'NYS LAWS-UNCLASSIFIED FELONY',\n",
       "       'MURDER & NON-NEGL. MANSLAUGHTE', 'OFFENSES AGAINST PUBLIC ADMINI',\n",
       "       'HARASSMENT', 'DISRUPTION OF A RELIGIOUS SERVICE'], dtype=object)"
      ]
     },
     "execution_count": 23,
     "metadata": {},
     "output_type": "execute_result"
    }
   ],
   "source": [
    "df_cm3['OFNS_DESC'].unique()"
   ]
  },
  {
   "cell_type": "markdown",
   "metadata": {},
   "source": [
    "There are a few crimes that most toursits will not care about. I will drop them here."
   ]
  },
  {
   "cell_type": "code",
   "execution_count": 24,
   "metadata": {},
   "outputs": [
    {
     "data": {
      "text/plain": [
       "array(['OTHER OFFENSES RELATED TO THEFT', 'ASSAULT 3 & RELATED OFFENSES',\n",
       "       'ROBBERY', 'DANGEROUS DRUGS', 'OFFENSES INVOLVING FRAUD',\n",
       "       'PETIT LARCENY', 'FELONY ASSAULT', 'MISCELLANEOUS PENAL LAW',\n",
       "       'DANGEROUS WEAPONS', 'OFF. AGNST PUB ORD SENSBLTY & RGHTS TO PRIV',\n",
       "       'INTOXICATED/IMPAIRED DRIVING', 'INTOXICATED & IMPAIRED DRIVING',\n",
       "       'CRIMINAL MISCHIEF & RELATED OFFENSES', 'GRAND LARCENY',\n",
       "       'VEHICLE AND TRAFFIC LAWS', 'BURGLARY',\n",
       "       'OFFENSES AGAINST PUBLIC ADMINISTRATION',\n",
       "       'OTHER TRAFFIC INFRACTION', 'SEX CRIMES', 'ARSON',\n",
       "       'CRIMINAL TRESPASS', \"BURGLAR'S TOOLS\",\n",
       "       'ALCOHOLIC BEVERAGE CONTROL LAW',\n",
       "       'UNAUTHORIZED USE OF A VEHICLE 3 (UUV)',\n",
       "       'OTHER STATE LAWS (NON PENAL LAW)', 'ENDAN WELFARE INCOMP',\n",
       "       'OFF. AGNST PUB ORD SENSBLTY &', 'FRAUDS',\n",
       "       'PROSTITUTION & RELATED OFFENSES', 'OFFENSES AGAINST THE PERSON',\n",
       "       'POSSESSION OF STOLEN PROPERTY 5',\n",
       "       'OFFENSES AGAINST PUBLIC SAFETY', 'OTHER STATE LAWS',\n",
       "       'OFFENSES RELATED TO CHILDREN', 'GRAND LARCENY OF MOTOR VEHICLE',\n",
       "       'RAPE', 'POSSESSION OF STOLEN PROPERTY', 'FORCIBLE TOUCHING',\n",
       "       'MURDER & NON-NEGL. MANSLAUGHTER',\n",
       "       'HOMICIDE-NEGLIGENT,UNCLASSIFIED',\n",
       "       'CRIMINAL MISCHIEF & RELATED OF', 'GAMBLING',\n",
       "       'CHILD ABANDONMENT/NON SUPPORT 1', 'JOSTLING',\n",
       "       'ANTICIPATORY OFFENSES', 'FRAUDULENT ACCOSTING',\n",
       "       'OTHER STATE LAWS (NON PENAL LA', 'THEFT-FRAUD',\n",
       "       'KIDNAPPING & RELATED OFFENSES', 'ADMINISTRATIVE CODE',\n",
       "       'LOITERING FOR DRUG PURPOSES', 'CHILD ABANDONMENT/NON SUPPORT',\n",
       "       'ESCAPE 3', 'HOMICIDE-NEGLIGENT-VEHICLE',\n",
       "       'NYS LAWS-UNCLASSIFIED FELONY', 'MURDER & NON-NEGL. MANSLAUGHTE',\n",
       "       'OFFENSES AGAINST PUBLIC ADMINI', 'HARASSMENT',\n",
       "       'DISRUPTION OF A RELIGIOUS SERVICE'], dtype=object)"
      ]
     },
     "execution_count": 24,
     "metadata": {},
     "output_type": "execute_result"
    }
   ],
   "source": [
    "drop_crimes = ['FORGERY', 'ABORTION', 'CHILD ABANDONMENT/ NON SUPPORT 1']\n",
    "df_cm3 = df_cm3.where(~df_cm3['OFNS_DESC'].isin(drop_crimes)).dropna().reset_index().drop(['index'], axis = 1)\n",
    "df_cm3['OFNS_DESC'].unique()"
   ]
  },
  {
   "cell_type": "markdown",
   "metadata": {},
   "source": [
    "To find how many crimes occurred near an Airbnb unit, I first tried method 1 from above. After running for a few hours, it was still at less than 500th (out of 36898) instance of the price dataset. Considering that these two datasets are quite large, I decided to use method 3, the most efficient method with good accuracy. "
   ]
  },
  {
   "cell_type": "code",
   "execution_count": 25,
   "metadata": {},
   "outputs": [
    {
     "name": "stdout",
     "output_type": "stream",
     "text": [
      "--- 267244.2390165329 seconds ---\n"
     ]
    }
   ],
   "source": [
    "import time\n",
    "start_time = time.time() # to time this method\n",
    "close = []\n",
    "for ii in range(len(df2)):\n",
    "    score = 0\n",
    "    lat1 = df2['latitude'][ii] #in degree\n",
    "    lon1 = df2['longitude'][ii] #in degree\n",
    "    dg_walk_lat = 360 * five_min_walk / (2 * np.pi * 6371 * math.radians(lat1)) # distance converted to degree\n",
    "    dg_walk_lon = 360 * five_min_walk / (2 * np.pi * 6371)\n",
    "    # find how many crimes are within 5 minutes away\n",
    "    close_crimes = len(df_cm3[[(df_cm3['Latitude'].iloc[jj] <= (lat1 + dg_walk_lat)) \\\n",
    "                               & (df_cm3['Latitude'].iloc[jj] >= (lat1 - dg_walk_lat)) \\\n",
    "                               & (df_cm3['Longitude'].iloc[jj] <= (lon1 + dg_walk_lat)) \\\n",
    "                               & (df_cm3['Longitude'].iloc[jj] >= (lon1 - dg_walk_lat)) \\\n",
    "                               for jj in range(len(df_cm3))]])\n",
    "    close.append(close_crimes)\n",
    "df2['crimes'] = close      \n",
    "print(\"--- %s seconds ---\" % (time.time() - start_time))"
   ]
  },
  {
   "cell_type": "markdown",
   "metadata": {},
   "source": [
    "The code above ran for three whole days."
   ]
  },
  {
   "cell_type": "code",
   "execution_count": 48,
   "metadata": {},
   "outputs": [
    {
     "data": {
      "text/plain": [
       "<seaborn.axisgrid.FacetGrid at 0x1d65f137a88>"
      ]
     },
     "execution_count": 48,
     "metadata": {},
     "output_type": "execute_result"
    },
    {
     "data": {
      "image/png": "[encoded data removed]",
      "text/plain": [
       "<Figure size 360x360 with 1 Axes>"
      ]
     },
     "metadata": {
      "needs_background": "light"
     },
     "output_type": "display_data"
    }
   ],
   "source": [
    "sns.relplot(x = 'crimes', y = 'price', data = df2, kind = 'line')"
   ]
  },
  {
   "cell_type": "markdown",
   "metadata": {},
   "source": [
    "There is not very clear correlation between crimes and price. From 9/20/2017 to 3/30/2019, about 1.5 years, hundreds of thounsands of crimes were committed. I will also take a closer look at murders that occurred during the same period of time."
   ]
  },
  {
   "cell_type": "code",
   "execution_count": 56,
   "metadata": {},
   "outputs": [
    {
     "data": {
      "text/plain": [
       "1160"
      ]
     },
     "execution_count": 56,
     "metadata": {},
     "output_type": "execute_result"
    }
   ],
   "source": [
    "df_cm4 = df_cm3.copy()\n",
    "df_cm4 = df_cm4[(df_cm4['OFNS_DESC'] == 'MURDER & NON-NEGL. MANSLAUGHTER') | (df_cm4['OFNS_DESC'] == 'MURDER & NON-NEGL. MANSLAUGHTE')].reset_index().drop('index', axis = 1)\n",
    "len(df_cm4)"
   ]
  },
  {
   "cell_type": "code",
   "execution_count": 105,
   "metadata": {},
   "outputs": [
    {
     "name": "stdout",
     "output_type": "stream",
     "text": [
      "--- 699.4179692268372 seconds ---\n"
     ]
    }
   ],
   "source": [
    "import time\n",
    "start_time = time.time() # to time this method\n",
    "close = []\n",
    "for ii in range(len(df2)):\n",
    "    score = 0\n",
    "    lat1 = df2['latitude'][ii] #in degree\n",
    "    lon1 = df2['longitude'][ii] #in degree\n",
    "    dg_walk_lat = 360 * five_min_walk / (2 * np.pi * 6371 * math.radians(lat1)) # distance converted to degree\n",
    "    dg_walk_lon = 360 * five_min_walk / (2 * np.pi * 6371)\n",
    "    # find how many crimes are within 5 minutes away\n",
    "    close_crimes = len(df_cm4[[(df_cm4['Latitude'].iloc[jj] <= (lat1 + dg_walk_lat)) \\\n",
    "                               & (df_cm4['Latitude'].iloc[jj] >= (lat1 - dg_walk_lat)) \\\n",
    "                               & (df_cm4['Longitude'].iloc[jj] <= (lon1 + dg_walk_lat)) \\\n",
    "                               & (df_cm4['Longitude'].iloc[jj] >= (lon1 - dg_walk_lat)) \\\n",
    "                               for jj in range(len(df_cm4))]])\n",
    "    close.append(close_crimes)\n",
    "df2['murder'] = close      # 0~51 stations, on average 27\n",
    "print(\"--- %s seconds ---\" % (time.time() - start_time))"
   ]
  },
  {
   "cell_type": "code",
   "execution_count": 107,
   "metadata": {},
   "outputs": [],
   "source": [
    "df2.to_csv('aibnb_murder_subway_jupyter.csv')"
   ]
  },
  {
   "cell_type": "code",
   "execution_count": 6,
   "metadata": {},
   "outputs": [],
   "source": [
    "# Jupyter notebook restarted\n",
    "df2 = pd.read_csv('aibnb_murder_subway_jupyter.csv')"
   ]
  },
  {
   "cell_type": "code",
   "execution_count": 7,
   "metadata": {},
   "outputs": [
    {
     "data": {
      "text/plain": [
       "Index(['Unnamed: 0', 'id', 'name', 'host_id', 'host_name',\n",
       "       'neighbourhood_group', 'neighbourhood', 'latitude', 'longitude',\n",
       "       'room_type', 'price', 'minimum_nights', 'number_of_reviews',\n",
       "       'last_review', 'reviews_per_month', 'calculated_host_listings_count',\n",
       "       'availability_365', 'subway station H', 'subway station xy',\n",
       "       'subway station', 'Days since last review', 'crimes', 'murder'],\n",
       "      dtype='object')"
      ]
     },
     "execution_count": 7,
     "metadata": {},
     "output_type": "execute_result"
    }
   ],
   "source": [
    "df2.columns"
   ]
  },
  {
   "cell_type": "code",
   "execution_count": 8,
   "metadata": {},
   "outputs": [
    {
     "data": {
      "text/plain": [
       "array(['Brooklyn', 'Manhattan', 'Bronx', 'Queens', 'Staten Island'],\n",
       "      dtype=object)"
      ]
     },
     "execution_count": 8,
     "metadata": {},
     "output_type": "execute_result"
    }
   ],
   "source": [
    "df2['neighbourhood_group'].unique()"
   ]
  },
  {
   "cell_type": "code",
   "execution_count": 109,
   "metadata": {},
   "outputs": [
    {
     "data": {
      "text/plain": [
       "<seaborn.axisgrid.FacetGrid at 0x1d65f043448>"
      ]
     },
     "execution_count": 109,
     "metadata": {},
     "output_type": "execute_result"
    },
    {
     "data": {
      "image/png": "[encoded data removed]",
      "text/plain": [
       "<Figure size 360x360 with 1 Axes>"
      ]
     },
     "metadata": {
      "needs_background": "light"
     },
     "output_type": "display_data"
    }
   ],
   "source": [
    "sns.relplot(x = 'murder', y = 'price', data = df2, kind = 'line')"
   ]
  },
  {
   "cell_type": "code",
   "execution_count": 110,
   "metadata": {},
   "outputs": [
    {
     "data": {
      "text/plain": [
       "<seaborn.axisgrid.FacetGrid at 0x1d6980c39c8>"
      ]
     },
     "execution_count": 110,
     "metadata": {},
     "output_type": "execute_result"
    },
    {
     "data": {
      "image/png": "[encoded data removed]",
      "text/plain": [
       "<Figure size 360x360 with 1 Axes>"
      ]
     },
     "metadata": {
      "needs_background": "light"
     },
     "output_type": "display_data"
    }
   ],
   "source": [
    "sns.relplot(x = 'subway station', y = 'price', data = df2, kind = 'line')"
   ]
  },
  {
   "cell_type": "code",
   "execution_count": 111,
   "metadata": {},
   "outputs": [
    {
     "data": {
      "text/plain": [
       "count    12467.000000\n",
       "mean         2.358065\n",
       "std          2.272782\n",
       "min          0.000000\n",
       "25%          1.000000\n",
       "50%          2.000000\n",
       "75%          3.000000\n",
       "max         24.000000\n",
       "Name: subway station, dtype: float64"
      ]
     },
     "execution_count": 111,
     "metadata": {},
     "output_type": "execute_result"
    }
   ],
   "source": [
    "df2['subway station'].describe()"
   ]
  },
  {
   "cell_type": "code",
   "execution_count": 112,
   "metadata": {},
   "outputs": [
    {
     "data": {
      "text/plain": [
       "<matplotlib.axes._subplots.AxesSubplot at 0x1d6980a8608>"
      ]
     },
     "execution_count": 112,
     "metadata": {},
     "output_type": "execute_result"
    },
    {
     "data": {
      "image/png": "[encoded data removed]",
      "text/plain": [
       "<Figure size 432x288 with 1 Axes>"
      ]
     },
     "metadata": {
      "needs_background": "light"
     },
     "output_type": "display_data"
    }
   ],
   "source": [
    "sns.distplot(df2['subway station'])"
   ]
  },
  {
   "cell_type": "code",
   "execution_count": 113,
   "metadata": {},
   "outputs": [
    {
     "data": {
      "text/plain": [
       "count    12467.000000\n",
       "mean         3.368814\n",
       "std          6.327613\n",
       "min          0.000000\n",
       "25%          0.000000\n",
       "50%          0.000000\n",
       "75%          4.000000\n",
       "max         55.000000\n",
       "Name: murder, dtype: float64"
      ]
     },
     "execution_count": 113,
     "metadata": {},
     "output_type": "execute_result"
    }
   ],
   "source": [
    "df2['murder'].describe()"
   ]
  },
  {
   "cell_type": "code",
   "execution_count": 114,
   "metadata": {},
   "outputs": [
    {
     "data": {
      "text/plain": [
       "<matplotlib.axes._subplots.AxesSubplot at 0x1d69891bc88>"
      ]
     },
     "execution_count": 114,
     "metadata": {},
     "output_type": "execute_result"
    },
    {
     "data": {
      "image/png": "[encoded data removed]",
      "text/plain": [
       "<Figure size 432x288 with 1 Axes>"
      ]
     },
     "metadata": {
      "needs_background": "light"
     },
     "output_type": "display_data"
    }
   ],
   "source": [
    "sns.distplot(df2['murder'])"
   ]
  },
  {
   "cell_type": "code",
   "execution_count": 9,
   "metadata": {},
   "outputs": [
    {
     "data": {
      "text/plain": [
       "array(['Brooklyn', 'Manhattan', 'Bronx', 'Queens'], dtype=object)"
      ]
     },
     "execution_count": 9,
     "metadata": {},
     "output_type": "execute_result"
    }
   ],
   "source": [
    "# Remove outliers in the numerical columns\n",
    "# This procedure is essential for the model (data not shown, tested without this step)\n",
    "data_outliers = ['minimum_nights', 'number_of_reviews', 'reviews_per_month','calculated_host_listings_count', \\\n",
    "                 'availability_365', 'price', 'crimes', 'murder', 'subway station']\n",
    "df3a = df2.copy()\n",
    "for ii in data_outliers:\n",
    "    df3a_mean = []\n",
    "    df3a_std = []\n",
    "    cutoff = []\n",
    "    lower = []\n",
    "    upper = []\n",
    "    df3a_mean, df3a_std = np.mean(df3a[ii]), np.std(df3a[ii])\n",
    "    cutoff = df3a_std * 3\n",
    "    lower, upper = df3a_mean - cutoff, df3a_mean + cutoff\n",
    "    lower = max(lower, 0)\n",
    "    df3a[ii] = df3a[ii].where((df3a[ii] > lower) & (df3a[ii] < upper)) # remove data above 3 stds away from the mean\n",
    "df3a = df3a.dropna()\n",
    "for ii in data_outliers:\n",
    "    df3a[ii] = df3a[ii].tolist()\n",
    "df3a = df3a.reset_index().drop(['index'], axis = 1)\n",
    "df3a['neighbourhood_group'].unique()"
   ]
  },
  {
   "cell_type": "markdown",
   "metadata": {},
   "source": [
    "This process of outlier removal also removed the remaining points from Staten Island, one of the five neighbourhood groups in New York."
   ]
  },
  {
   "cell_type": "code",
   "execution_count": 10,
   "metadata": {},
   "outputs": [],
   "source": [
    "# Drop the columns that will not be used\n",
    "df3b = df3a.copy()\n",
    "df3b = df3b.drop(['id', 'name', 'host_id', 'host_name', 'last_review'], axis = 1)"
   ]
  },
  {
   "cell_type": "code",
   "execution_count": 11,
   "metadata": {},
   "outputs": [
    {
     "name": "stderr",
     "output_type": "stream",
     "text": [
      "C:\\Users\\lw1365\\Anaconda3\\lib\\site-packages\\sklearn\\preprocessing\\_encoders.py:415: FutureWarning: The handling of integer data will change in version 0.22. Currently, the categories are determined based on the range [0, max(values)], while in the future they will be determined based on the unique values.\n",
      "If you want the future behaviour and silence this warning, you can specify \"categories='auto'\".\n",
      "In case you used a LabelEncoder before this OneHotEncoder to convert the categories to integers, then you can now use the OneHotEncoder directly.\n",
      "  warnings.warn(msg, FutureWarning)\n"
     ]
    },
    {
     "data": {
      "text/plain": [
       "Index(['Unnamed: 0', 'latitude', 'longitude', 'price', 'minimum_nights',\n",
       "       'number_of_reviews', 'reviews_per_month',\n",
       "       'calculated_host_listings_count', 'availability_365',\n",
       "       'subway station H', 'subway station xy', 'subway station',\n",
       "       'Days since last review', 'crimes', 'murder', 'Bronx', 'Brooklyn',\n",
       "       'Manhattan', 'Queens', 'Entire Home/Apt', 'Private Room',\n",
       "       'Shared Room'],\n",
       "      dtype='object')"
      ]
     },
     "execution_count": 11,
     "metadata": {},
     "output_type": "execute_result"
    }
   ],
   "source": [
    "# Convert the categorical data to numerical values\n",
    "from sklearn.preprocessing import LabelEncoder\n",
    "from sklearn.preprocessing import OneHotEncoder\n",
    "le = LabelEncoder()\n",
    "df3c = pd.DataFrame([df3b['neighbourhood_group'], df3b['room_type']]).T \n",
    "df3c['neighbourhood_group'] = le.fit_transform(df3c['neighbourhood_group']) #convert neighhourhood groups to distinct numbers\n",
    "df3c['room_type'] = le.fit_transform(df3c['room_type']) #convert room types to distinct numbers\n",
    "ohe = OneHotEncoder()\n",
    "df3c = ohe.fit_transform(df3c).toarray() # use one hot encoder to convert distinct numbers to columns of 0s and 1s\n",
    "\n",
    "df3c.shape\n",
    "df3d = pd.DataFrame(df3c, columns = ['Bronx', 'Brooklyn', 'Manhattan', 'Queens', 'Entire Home/Apt', 'Private Room', 'Shared Room'])\n",
    "df4 = pd.merge(df3b, df3d, how = 'outer', left_index = True, right_index = True)\n",
    "df4 = df4.drop(['neighbourhood', 'neighbourhood_group', 'room_type'], axis = 1)\n",
    "df4.columns"
   ]
  },
  {
   "cell_type": "code",
   "execution_count": 12,
   "metadata": {},
   "outputs": [],
   "source": [
    "# Prepare for training sets and testing sets\n",
    "X = df4.drop('price', axis = 1)\n",
    "y = df4['price']"
   ]
  },
  {
   "cell_type": "code",
   "execution_count": 13,
   "metadata": {},
   "outputs": [],
   "source": [
    "from sklearn.model_selection import train_test_split\n",
    "X_train, X_test, y_train, y_test = train_test_split(X, y, test_size = 0.25, random_state = 0)"
   ]
  },
  {
   "cell_type": "code",
   "execution_count": 23,
   "metadata": {},
   "outputs": [],
   "source": [
    "##Scale the features, post-scaling inactivated\n",
    "# from sklearn.preprocessing import MinMaxScaler\n",
    "# scaler = MinMaxScaler()\n",
    "# X_train_scaled = scaler.fit_transform(X_train)\n",
    "# X_test_scaled = scaler.transform(X_test)"
   ]
  },
  {
   "cell_type": "code",
   "execution_count": 29,
   "metadata": {},
   "outputs": [],
   "source": [
    "# Pre-scaling is used, considering the methods below are better for the original data\n",
    "X_train_scaled = X_train\n",
    "X_test_scaled = X_test"
   ]
  },
  {
   "cell_type": "code",
   "execution_count": 30,
   "metadata": {},
   "outputs": [
    {
     "name": "stdout",
     "output_type": "stream",
     "text": [
      "0.01763338045136864\n",
      "0.005270167698633532\n"
     ]
    }
   ],
   "source": [
    "# Algirthm 1 -- K-Nearest Neighbor\n",
    "# Sensitive to scaling\n",
    "from sklearn.neighbors import KNeighborsRegressor\n",
    "knnreg = KNeighborsRegressor(n_neighbors = 100).fit(X_train_scaled, y_train)\n",
    "print(knnreg.score(X_train_scaled, y_train)) \n",
    "print(knnreg.score(X_test_scaled, y_test))\n",
    "# prescaling: \n",
    "# 0.01763338045136864\n",
    "# 0.005270167698633532\n",
    "# post-scaling:\n",
    "# 0.28165167542557834\n",
    "# 0.20841288361724808"
   ]
  },
  {
   "cell_type": "code",
   "execution_count": 32,
   "metadata": {},
   "outputs": [
    {
     "name": "stdout",
     "output_type": "stream",
     "text": [
      "0.3487463554695992\n",
      "0.2891685200941767\n"
     ]
    }
   ],
   "source": [
    "# Algotithm 2-- Linear Regression\n",
    "# Not sensitive to scaling\n",
    "from sklearn.linear_model import LinearRegression\n",
    "linreg = LinearRegression().fit(X_train_scaled, y_train)\n",
    "print(linreg.score(X_train_scaled, y_train)) \n",
    "print(linreg.score(X_test_scaled, y_test)) \n",
    "# prescaling:\n",
    "# 0.3487463554695992\n",
    "# 0.2891685200941767\n",
    "# post-scaling:\n",
    "# 0.34874635546959976\n",
    "# 0.289168520094243"
   ]
  },
  {
   "cell_type": "code",
   "execution_count": 33,
   "metadata": {},
   "outputs": [
    {
     "name": "stdout",
     "output_type": "stream",
     "text": [
      "0.3393911912747165\n",
      "0.27862834248494617\n"
     ]
    }
   ],
   "source": [
    "# Algorithm 3 -- Ridge Regression\n",
    "# Not sensitive to scaling, slighly better post-scaling\n",
    "from sklearn.linear_model import Ridge\n",
    "linridge = Ridge(alpha = 1).fit(X_train_scaled, y_train) #doesnt change much changing alpha\n",
    "print(linridge.score(X_train_scaled, y_train)) \n",
    "print(linridge.score(X_test_scaled, y_test)) \n",
    "# prescaling:\n",
    "# 0.3393911912747165\n",
    "# 0.27862834248494617\n",
    "# post-scaling:\n",
    "# 0.3484823170430936\n",
    "# 0.2893389230705873"
   ]
  },
  {
   "cell_type": "code",
   "execution_count": 34,
   "metadata": {},
   "outputs": [
    {
     "name": "stdout",
     "output_type": "stream",
     "text": [
      "0.31273082393035145\n",
      "0.2601776680585989\n"
     ]
    }
   ],
   "source": [
    "# Algorithm 4 -- Lasso Regression\n",
    "# Not sensitive to scaling, slightly better result pre-scaling\n",
    "from sklearn.linear_model import Lasso\n",
    "linlasso = Lasso(alpha = 2, max_iter = 10000).fit(X_train_scaled, y_train) \n",
    "print(linlasso.score(X_train_scaled, y_train)) \n",
    "print(linlasso.score(X_test_scaled, y_test)) \n",
    "# prescaling:\n",
    "# 0.31273082393035145\n",
    "# 0.2601776680585989\n",
    "# post-scaling:\n",
    "# 0.29360842601104253\n",
    "# 0.24802461437197132"
   ]
  },
  {
   "cell_type": "code",
   "execution_count": 35,
   "metadata": {},
   "outputs": [
    {
     "name": "stdout",
     "output_type": "stream",
     "text": [
      "0.8670542187598393\n",
      "0.3063821306889457\n"
     ]
    },
    {
     "name": "stderr",
     "output_type": "stream",
     "text": [
      "C:\\Users\\lw1365\\Anaconda3\\lib\\site-packages\\sklearn\\ensemble\\forest.py:245: FutureWarning: The default value of n_estimators will change from 10 in version 0.20 to 100 in 0.22.\n",
      "  \"10 in version 0.20 to 100 in 0.22.\", FutureWarning)\n"
     ]
    }
   ],
   "source": [
    "# Algorithm 5 -- Random Forest\n",
    "# Not sensitive to scaling, slightly better result pre-scaling\n",
    "from sklearn.ensemble import RandomForestRegressor\n",
    "rndforest = RandomForestRegressor(max_features = 3, random_state = 0).fit(X_train_scaled, y_train)\n",
    "print(rndforest.score(X_train_scaled, y_train)) \n",
    "print(rndforest.score(X_test_scaled, y_test)) \n",
    "# prescaling:\n",
    "# 0.8670542187598393\n",
    "# 0.3063821306889457\n",
    "# post-scaling:\n",
    "# 0.8662067786151053\n",
    "# 0.3017395110391603"
   ]
  },
  {
   "cell_type": "code",
   "execution_count": 45,
   "metadata": {},
   "outputs": [
    {
     "name": "stdout",
     "output_type": "stream",
     "text": [
      "0.6287538847953389\n",
      "0.3558458866611073\n"
     ]
    }
   ],
   "source": [
    "# Algorithm 6 -- Gradient Boosting Regressor\n",
    "# Not sensitive to scaling, slightly better result pre-scaling\n",
    "from sklearn.ensemble import GradientBoostingRegressor\n",
    "gbr = GradientBoostingRegressor(learning_rate = 0.04, max_depth = 4, random_state = 0).fit(X_train_scaled, y_train)\n",
    "print(gbr.score(X_train_scaled, y_train)) \n",
    "print(gbr.score(X_test_scaled, y_test)) \n",
    "# prescaling:\n",
    "# 0.6287538847953389\n",
    "# 0.3558458866611073\n",
    "# post-scaling:\n",
    "# 0.6287538847953389\n",
    "# 0.3558458866611073"
   ]
  },
  {
   "cell_type": "markdown",
   "metadata": {},
   "source": [
    "Among the above six methods, Gradient Boosting Regressor shows the best R2, compared to Radom Forest and other regression models. A few things to note:\n",
    "1) All six methods show less than acceptable prediction power, of which R2 is lower than that of the models in New_York_Airbnb2, where subway and crime information is not included. \n",
    "2) Some learning algorithms such as KNN is sensitive to scaling for features, while regression and ensemble algorithms used here are more robust to the range of data.\n",
    "3) Parameters with different values are tested to find the best version of most of the algorithms tested here, and I try to avoid overfitting. \n",
    "4) I need to dig a little deeper in learning algorithms to see what can be done to improve the predicition accuracy."
   ]
  },
  {
   "cell_type": "code",
   "execution_count": 37,
   "metadata": {},
   "outputs": [
    {
     "name": "stdout",
     "output_type": "stream",
     "text": [
      "0.3225086571253122\n"
     ]
    }
   ],
   "source": [
    "# K-fold cross validation of the best algorithm\n",
    "from sklearn.model_selection import cross_val_score\n",
    "cv_scores = cross_val_score(gbr, X, y, cv = 100)\n",
    "print(np.mean(cv_scores)) "
   ]
  }
 ],
 "metadata": {
  "kernelspec": {
   "display_name": "Python 3",
   "language": "python",
   "name": "python3"
  },
  "language_info": {
   "codemirror_mode": {
    "name": "ipython",
    "version": 3
   },
   "file_extension": ".py",
   "mimetype": "text/x-python",
   "name": "python",
   "nbconvert_exporter": "python",
   "pygments_lexer": "ipython3",
   "version": "3.7.4"
  }
 },
 "nbformat": 4,
 "nbformat_minor": 2
}
